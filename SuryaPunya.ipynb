{
  "cells": [
    {
      "cell_type": "markdown",
      "metadata": {
        "id": "view-in-github",
        "colab_type": "text"
      },
      "source": [
        "<a href=\"https://colab.research.google.com/github/RifkiSurya/suryapaloh/blob/main/SuryaPunya.ipynb\" target=\"_parent\"><img src=\"https://colab.research.google.com/assets/colab-badge.svg\" alt=\"Open In Colab\"/></a>"
      ]
    },
    {
      "cell_type": "code",
      "source": [
        "import matplotlib.pyplot as plt\n",
        "from skimage import data, filters, img_us_ubyte\n",
        "from skimage.color import rgb2gray\n",
        "\n",
        "image_coins = data.coins() # Citra sudah grayscale\n",
        "thresh_manual = 100\n",
        "binary_manual = image_coins > thresh_manual\n",
        "\n",
        "threshold_otsu = filters.threshold_otsu(image_coins)\n",
        "binary_otsu = image_coins > threshold_otsu\n",
        "\n",
        "fig, axes = plt.subplots(ncols=3, figsize=(15, 5), sharex=True, sharey=True)\n",
        "ax = axes.ravel()\n",
        "\n",
        "ax[0].imshow(image_coins, cmap=plt.cm.gray)\n",
        "ax[0].set_title('Original Image')\n",
        "ax[0].axis('off')\n",
        "\n",
        "ax[1].imshow(binary_manual, cmap=plt.cm.gray)\n",
        "ax[1].set_title(f'Manual Threshold (T={thresh_manual})')\n",
        "ax[1].axis('off')\n",
        "\n",
        "ax[2].imshow(binary_otsu, cmap=plt.cm.gray)\n",
        "ax[2].set_title(f'Otsu\\'s Threshold (T={thresh_otsu:.2f})')\n",
        "ax[2].axis('off')\n",
        "\n",
        "plt.tight_layout()\n",
        "plt.show()\n",
        "\n",
        " # Menampilkan nilai threshold Otsu\n",
        "print(f\"Nilai threshold Otsu yang ditemukan: {thresh_otsu}\")"
      ],
      "metadata": {
        "id": "0IpwhBm84gnG"
      },
      "execution_count": null,
      "outputs": []
    }
  ],
  "metadata": {
    "colab": {
      "name": "Welcome To Colab",
      "toc_visible": true,
      "provenance": [],
      "include_colab_link": true
    },
    "kernelspec": {
      "display_name": "Python 3",
      "name": "python3"
    }
  },
  "nbformat": 4,
  "nbformat_minor": 0
}